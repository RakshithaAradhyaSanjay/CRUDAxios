{
  "nbformat": 4,
  "nbformat_minor": 0,
  "metadata": {
    "colab": {
      "provenance": [],
      "authorship_tag": "ABX9TyPrcHaltoXFRSal06WxntUq",
      "include_colab_link": true
    },
    "kernelspec": {
      "name": "python3",
      "display_name": "Python 3"
    },
    "language_info": {
      "name": "python"
    }
  },
  "cells": [
    {
      "cell_type": "markdown",
      "metadata": {
        "id": "view-in-github",
        "colab_type": "text"
      },
      "source": [
        "<a href=\"https://colab.research.google.com/github/RakshithaAradhyaSanjay/CRUDAxios/blob/main/Untitled1.ipynb\" target=\"_parent\"><img src=\"https://colab.research.google.com/assets/colab-badge.svg\" alt=\"Open In Colab\"/></a>"
      ]
    },
    {
      "cell_type": "markdown",
      "source": [
        "TASK 1"
      ],
      "metadata": {
        "id": "GK-qCq4ZchLx"
      }
    },
    {
      "cell_type": "code",
      "execution_count": 2,
      "metadata": {
        "id": "oVDKZaS7b7Ep"
      },
      "outputs": [],
      "source": [
        "import numpy as np\n",
        "ans1 = \"b\"\n"
      ]
    },
    {
      "cell_type": "markdown",
      "source": [
        "TASK 2\n"
      ],
      "metadata": {
        "id": "Fw0RgggDcj2v"
      }
    },
    {
      "cell_type": "code",
      "source": [
        "from numpy import square;\n",
        "ans2 = \"d\"\n",
        "\n"
      ],
      "metadata": {
        "id": "ao5TOzKWcAhX"
      },
      "execution_count": 3,
      "outputs": []
    },
    {
      "cell_type": "markdown",
      "source": [
        "TASK 3"
      ],
      "metadata": {
        "id": "-2YHKqRacluv"
      }
    },
    {
      "cell_type": "code",
      "source": [
        "import numpy as np\n",
        "\n",
        "distance = [2000, 4000, 6000, 7000, 1000]\n",
        "np_distance = np.array(distance)\n",
        "print(np_distance)"
      ],
      "metadata": {
        "colab": {
          "base_uri": "https://localhost:8080/"
        },
        "id": "SuMpZ4emclHJ",
        "outputId": "b9f1bcc8-eb35-4d39-87e7-6b86d9e7f6a6"
      },
      "execution_count": 7,
      "outputs": [
        {
          "output_type": "stream",
          "name": "stdout",
          "text": [
            "[2000 4000 6000 7000 1000]\n"
          ]
        }
      ]
    },
    {
      "cell_type": "markdown",
      "source": [
        "TASK 4\n"
      ],
      "metadata": {
        "id": "X9EW98d1deEz"
      }
    },
    {
      "cell_type": "code",
      "source": [
        "np_distance_km = np_distance / 1000;\n",
        "print(np_distance_km)"
      ],
      "metadata": {
        "colab": {
          "base_uri": "https://localhost:8080/"
        },
        "id": "th0wbpPQdfqQ",
        "outputId": "a9deb217-58bd-4005-b3e1-3abda3a1185e"
      },
      "execution_count": 9,
      "outputs": [
        {
          "output_type": "stream",
          "name": "stdout",
          "text": [
            "[2. 4. 6. 7. 1.]\n"
          ]
        }
      ]
    },
    {
      "cell_type": "markdown",
      "source": [
        "TASK 5\n"
      ],
      "metadata": {
        "id": "TsCayR8DdpoS"
      }
    },
    {
      "cell_type": "code",
      "source": [
        " import numpy as np;\n",
        "\n",
        " time=[0.5, 1,1.3,1.5,2];\n",
        " np_time = np.array(time);\n",
        " np_velocity = np_distance/np_time;\n",
        " print(\"velocity\",np_velocity)"
      ],
      "metadata": {
        "colab": {
          "base_uri": "https://localhost:8080/"
        },
        "id": "l7kfu4WgdriP",
        "outputId": "d2a0e5ae-6eb0-4f07-d552-ebd1903bc7d3"
      },
      "execution_count": 15,
      "outputs": [
        {
          "output_type": "stream",
          "name": "stdout",
          "text": [
            "velocity [4000.         4000.         4615.38461538 4666.66666667  500.        ]\n"
          ]
        }
      ]
    },
    {
      "cell_type": "markdown",
      "source": [
        "TASK 6\n"
      ],
      "metadata": {
        "id": "VPRd43sKek_W"
      }
    },
    {
      "cell_type": "code",
      "source": [
        "np_velocity[1] = 1.8\n",
        "print(np_velocity)"
      ],
      "metadata": {
        "colab": {
          "base_uri": "https://localhost:8080/"
        },
        "id": "vA4tK0m6el3a",
        "outputId": "07fe2cde-0c8b-47d0-ee2f-cc05772ecb1e"
      },
      "execution_count": 16,
      "outputs": [
        {
          "output_type": "stream",
          "name": "stdout",
          "text": [
            "[4.00000000e+03 1.80000000e+00 4.61538462e+03 4.66666667e+03\n",
            " 5.00000000e+02]\n"
          ]
        }
      ]
    },
    {
      "cell_type": "code",
      "source": [
        "TASK 7\n"
      ],
      "metadata": {
        "id": "eSK4bAgDfl8E"
      },
      "execution_count": null,
      "outputs": []
    },
    {
      "cell_type": "code",
      "source": [
        "museum = {\n",
        "\n",
        "     'museum':['Louvre','Hermitage','National Gallery','Metropolitan'],\n",
        "\n",
        "     'Picasso':[True,False,True,False]\n",
        "\n",
        "}\n"
      ],
      "metadata": {
        "id": "wm9SWfj5fL6G"
      },
      "execution_count": 17,
      "outputs": []
    },
    {
      "cell_type": "code",
      "source": [
        "import pandas as pd;\n",
        "museum = {\n",
        "\n",
        "     'museum':['Louvre','Hermitage','National Gallery','Metropolitan'],\n",
        "\n",
        "     'Picasso':[True,False,True,False]\n",
        "\n",
        "}\n",
        "df_mueseum = pd.DataFrame(museum);"
      ],
      "metadata": {
        "id": "yFwexRONfn4s"
      },
      "execution_count": 18,
      "outputs": []
    },
    {
      "cell_type": "markdown",
      "source": [
        "Task 8\n"
      ],
      "metadata": {
        "id": "37KQJfxsi4pH"
      }
    },
    {
      "cell_type": "code",
      "source": [
        "import pandas as pd\n",
        "\n",
        "# Read the CSV file\n",
        "file_path = \"/content/sample_data/Patient Data.csv\"\n",
        "df_patients = pd.read_csv(file_path)\n",
        "\n",
        "# Extract the specified columns\n",
        "df_patients_main = df_patients[[\"gender\", \"age\", \"BMI\"]]\n",
        "print(df_patients_main)\n",
        "\n"
      ],
      "metadata": {
        "colab": {
          "base_uri": "https://localhost:8080/"
        },
        "id": "TAfFnw7Pi5Y3",
        "outputId": "e5a42581-01e3-4b70-e860-163731cc2c05"
      },
      "execution_count": 20,
      "outputs": [
        {
          "output_type": "stream",
          "name": "stdout",
          "text": [
            "       gender   age    BMI\n",
            "0      Female  80.0  25.19\n",
            "1      Female  54.0    NaN\n",
            "2        Male  28.0    NaN\n",
            "3      Female  36.0  23.45\n",
            "4        Male  76.0  20.14\n",
            "...       ...   ...    ...\n",
            "99995  Female  80.0    NaN\n",
            "99996  Female   2.0  17.37\n",
            "99997    Male  66.0  27.83\n",
            "99998  Female  24.0  35.42\n",
            "99999  Female  57.0  22.43\n",
            "\n",
            "[100000 rows x 3 columns]\n"
          ]
        }
      ]
    },
    {
      "cell_type": "markdown",
      "source": [
        "TASK 9\n"
      ],
      "metadata": {
        "id": "YPtu-R0EkVBL"
      }
    },
    {
      "cell_type": "code",
      "source": [
        "df_patients_u30 = df_patients_main[df_patients_main[\"age\"] <= 30]\n",
        "print(df_patients_u30)\n"
      ],
      "metadata": {
        "colab": {
          "base_uri": "https://localhost:8080/"
        },
        "id": "TT9NVt4IkWf0",
        "outputId": "84ca7dd7-d604-4001-8a01-792ebe8d42e1"
      },
      "execution_count": 22,
      "outputs": [
        {
          "output_type": "stream",
          "name": "stdout",
          "text": [
            "       gender   age    BMI\n",
            "2        Male  28.0    NaN\n",
            "5      Female  20.0    NaN\n",
            "16       Male  15.0  30.36\n",
            "21       Male   5.0  18.80\n",
            "24     Female   4.0  13.99\n",
            "...       ...   ...    ...\n",
            "99989  Female  26.0    NaN\n",
            "99991    Male  22.0  29.65\n",
            "99992  Female  26.0  34.34\n",
            "99996  Female   2.0  17.37\n",
            "99998  Female  24.0  35.42\n",
            "\n",
            "[33733 rows x 3 columns]\n"
          ]
        }
      ]
    },
    {
      "cell_type": "code",
      "source": [
        "average_bmi = df_patients[\"BMI\"].mean()\n"
      ],
      "metadata": {
        "id": "P7hET0k-klXy"
      },
      "execution_count": 23,
      "outputs": []
    },
    {
      "cell_type": "code",
      "source": [
        "print(average_bmi)"
      ],
      "metadata": {
        "colab": {
          "base_uri": "https://localhost:8080/"
        },
        "id": "bJfDD4sEk68e",
        "outputId": "189881f3-d91d-41e0-f769-4d62e6b3ceab"
      },
      "execution_count": 24,
      "outputs": [
        {
          "output_type": "stream",
          "name": "stdout",
          "text": [
            "27.321028891034924\n"
          ]
        }
      ]
    },
    {
      "cell_type": "code",
      "source": [],
      "metadata": {
        "id": "1KXBRirck82b"
      },
      "execution_count": null,
      "outputs": []
    }
  ]
}