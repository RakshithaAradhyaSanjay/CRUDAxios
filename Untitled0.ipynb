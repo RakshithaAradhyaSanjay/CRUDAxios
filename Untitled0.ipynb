{
  "nbformat": 4,
  "nbformat_minor": 0,
  "metadata": {
    "colab": {
      "provenance": [],
      "authorship_tag": "ABX9TyPRCIJpEFQiQnJ2ipHdKSck",
      "include_colab_link": true
    },
    "kernelspec": {
      "name": "python3",
      "display_name": "Python 3"
    },
    "language_info": {
      "name": "python"
    }
  },
  "cells": [
    {
      "cell_type": "markdown",
      "metadata": {
        "id": "view-in-github",
        "colab_type": "text"
      },
      "source": [
        "<a href=\"https://colab.research.google.com/github/RakshithaAradhyaSanjay/CRUDAxios/blob/main/Untitled0.ipynb\" target=\"_parent\"><img src=\"https://colab.research.google.com/assets/colab-badge.svg\" alt=\"Open In Colab\"/></a>"
      ]
    },
    {
      "cell_type": "code",
      "execution_count": null,
      "metadata": {
        "id": "Q0_shrBakXKk"
      },
      "outputs": [],
      "source": []
    },
    {
      "cell_type": "code",
      "source": [
        "var = \"hello\"\n",
        "print (var)"
      ],
      "metadata": {
        "colab": {
          "base_uri": "https://localhost:8080/"
        },
        "id": "qckthwMM22dW",
        "outputId": "6c68363e-1ff4-4ee6-a808-544a5eab3c9a"
      },
      "execution_count": 3,
      "outputs": [
        {
          "output_type": "stream",
          "name": "stdout",
          "text": [
            "hello\n"
          ]
        }
      ]
    },
    {
      "cell_type": "markdown",
      "source": [],
      "metadata": {
        "id": "TK8RTvX43CxO"
      }
    },
    {
      "cell_type": "markdown",
      "source": [
        "TASK 1\n"
      ],
      "metadata": {
        "id": "C1egR4YJ4ADo"
      }
    },
    {
      "cell_type": "code",
      "source": [
        "ans1 = 175 * 16.28;\n",
        "print (ans1)\n",
        "type(ans1)\n"
      ],
      "metadata": {
        "colab": {
          "base_uri": "https://localhost:8080/"
        },
        "id": "21cEWSzc28hz",
        "outputId": "9e9efe73-fde3-461b-ca69-6ed461d30fc6"
      },
      "execution_count": 8,
      "outputs": [
        {
          "output_type": "stream",
          "name": "stdout",
          "text": [
            "2849.0\n"
          ]
        },
        {
          "output_type": "execute_result",
          "data": {
            "text/plain": [
              "float"
            ]
          },
          "metadata": {},
          "execution_count": 8
        }
      ]
    },
    {
      "cell_type": "markdown",
      "source": [
        "TASK 2\n"
      ],
      "metadata": {
        "id": "AhQKqFuL4FLK"
      }
    },
    {
      "cell_type": "code",
      "source": [
        "ans2 =  572 / 8.73\n",
        "print(ans2)\n",
        "type(ans2)"
      ],
      "metadata": {
        "colab": {
          "base_uri": "https://localhost:8080/"
        },
        "id": "F6vSNwEu4G_V",
        "outputId": "98ca12f5-1e98-44be-80e5-a89b4d255ca8"
      },
      "execution_count": 11,
      "outputs": [
        {
          "output_type": "stream",
          "name": "stdout",
          "text": [
            "65.52119129438717\n"
          ]
        },
        {
          "output_type": "execute_result",
          "data": {
            "text/plain": [
              "float"
            ]
          },
          "metadata": {},
          "execution_count": 11
        }
      ]
    },
    {
      "cell_type": "markdown",
      "source": [
        "TASK 3\n"
      ],
      "metadata": {
        "id": "pLoTHVbS4YE3"
      }
    },
    {
      "cell_type": "code",
      "source": [
        "ans3 = \"I am a student\"\n",
        "print(ans3)\n",
        "type(ans3)"
      ],
      "metadata": {
        "colab": {
          "base_uri": "https://localhost:8080/"
        },
        "id": "0VHu5JBo4gBL",
        "outputId": "833c3c88-27ce-4554-9980-eac6ef6290a4"
      },
      "execution_count": 12,
      "outputs": [
        {
          "output_type": "stream",
          "name": "stdout",
          "text": [
            "I am a student\n"
          ]
        },
        {
          "output_type": "execute_result",
          "data": {
            "text/plain": [
              "str"
            ]
          },
          "metadata": {},
          "execution_count": 12
        }
      ]
    },
    {
      "cell_type": "markdown",
      "source": [
        "TASK 4\n"
      ],
      "metadata": {
        "id": "909moDTU4ojS"
      }
    },
    {
      "cell_type": "code",
      "source": [
        "ans4 = 25.927\n",
        "print(ans4)\n",
        "type(ans4)\n",
        "ans4_int = int(ans4)\n",
        "type(ans4_int)"
      ],
      "metadata": {
        "colab": {
          "base_uri": "https://localhost:8080/"
        },
        "id": "9QBgfk1k4t2q",
        "outputId": "d78f81c9-e8ab-41a5-e2d5-2c8caeb75d72"
      },
      "execution_count": 14,
      "outputs": [
        {
          "output_type": "stream",
          "name": "stdout",
          "text": [
            "25.927\n"
          ]
        },
        {
          "output_type": "execute_result",
          "data": {
            "text/plain": [
              "int"
            ]
          },
          "metadata": {},
          "execution_count": 14
        }
      ]
    },
    {
      "cell_type": "markdown",
      "source": [
        "TASK 5\n"
      ],
      "metadata": {
        "id": "K2gQapgS5dqK"
      }
    },
    {
      "cell_type": "code",
      "source": [
        "list_1 = [1,4,9,16,25 ]\n",
        "print(list_1)"
      ],
      "metadata": {
        "colab": {
          "base_uri": "https://localhost:8080/"
        },
        "id": "UtngcZfH5fC6",
        "outputId": "24fa820d-fbf7-48b4-88cc-12279a82ac1a"
      },
      "execution_count": 15,
      "outputs": [
        {
          "output_type": "stream",
          "name": "stdout",
          "text": [
            "[1, 4, 9, 16, 25]\n"
          ]
        }
      ]
    },
    {
      "cell_type": "markdown",
      "source": [
        "TAKS 6\n"
      ],
      "metadata": {
        "id": "AolB8jsc5r4a"
      }
    },
    {
      "cell_type": "code",
      "source": [
        "list_2 = [1, \"Hello\", 14, 5.6 ]\n",
        "print(list_2)"
      ],
      "metadata": {
        "colab": {
          "base_uri": "https://localhost:8080/"
        },
        "id": "20-nnCoF5s_X",
        "outputId": "5e3b6dba-8506-48c8-bad2-69c5dc692bc5"
      },
      "execution_count": 16,
      "outputs": [
        {
          "output_type": "stream",
          "name": "stdout",
          "text": [
            "[1, 'Hello', 14, 5.6]\n"
          ]
        }
      ]
    },
    {
      "cell_type": "markdown",
      "source": [
        "TASK 7\n"
      ],
      "metadata": {
        "id": "W-IRVU7V6N3v"
      }
    },
    {
      "cell_type": "code",
      "source": [],
      "metadata": {
        "id": "9twjJPtG6Nky"
      },
      "execution_count": null,
      "outputs": []
    },
    {
      "cell_type": "code",
      "source": [
        "list_3 = [3,4,5]\n",
        "list_4 = [\"Columbia\", 11, 24.5, 3, list_3]\n",
        "print(list_4)"
      ],
      "metadata": {
        "colab": {
          "base_uri": "https://localhost:8080/"
        },
        "id": "KagzztxX50h5",
        "outputId": "2fb7d97a-6d75-491b-bf9c-012f2c4a8d76"
      },
      "execution_count": 17,
      "outputs": [
        {
          "output_type": "stream",
          "name": "stdout",
          "text": [
            "['Columbia', 11, 24.5, 3, [3, 4, 5]]\n"
          ]
        }
      ]
    },
    {
      "cell_type": "markdown",
      "source": [
        "TASK 8\n",
        "\n"
      ],
      "metadata": {
        "id": "LynyMRN76GPk"
      }
    },
    {
      "cell_type": "code",
      "source": [
        "list_5 = [[3,4,5],[6,7],[8,9,'a'],['str','int',1]]\n",
        "list_5_elem = list_5[2]\n",
        "print(list_5_elem)"
      ],
      "metadata": {
        "colab": {
          "base_uri": "https://localhost:8080/"
        },
        "id": "bpoVluSn6H5i",
        "outputId": "5b3819bd-ed26-4a95-9493-bfa055070122"
      },
      "execution_count": 18,
      "outputs": [
        {
          "output_type": "stream",
          "name": "stdout",
          "text": [
            "[8, 9, 'a']\n"
          ]
        }
      ]
    },
    {
      "cell_type": "markdown",
      "source": [
        "TASK 9\n"
      ],
      "metadata": {
        "id": "wv4zihcw6jCK"
      }
    },
    {
      "cell_type": "code",
      "source": [
        "list_6 = [10,20,30,\"Hello\", 5.82,1,\"student\", \"Python\"]\n",
        "del list_6[-2]\n",
        "print(list_6)"
      ],
      "metadata": {
        "colab": {
          "base_uri": "https://localhost:8080/"
        },
        "id": "PRXZTN216kYf",
        "outputId": "3a6a5b09-266f-4b42-e649-4805ac46ca78"
      },
      "execution_count": 20,
      "outputs": [
        {
          "output_type": "stream",
          "name": "stdout",
          "text": [
            "[10, 20, 30, 'Hello', 5.82, 1, 'Python']\n"
          ]
        }
      ]
    },
    {
      "cell_type": "markdown",
      "source": [
        "TASK 10\n"
      ],
      "metadata": {
        "id": "04Q2KwAc65Tn"
      }
    },
    {
      "cell_type": "code",
      "source": [
        "list_5=  [[3,4,5],[6,7],[8,9,'a'],['str','int',1]]\n",
        "new_list = ['19',22,44]\n",
        "list_5_new = list_5 + new_list\n",
        "print(list_5_new)"
      ],
      "metadata": {
        "colab": {
          "base_uri": "https://localhost:8080/"
        },
        "id": "yAtKgbAd61Co",
        "outputId": "bb134e79-36e1-4aa3-dcf4-39d305f71142"
      },
      "execution_count": 21,
      "outputs": [
        {
          "output_type": "stream",
          "name": "stdout",
          "text": [
            "[[3, 4, 5], [6, 7], [8, 9, 'a'], ['str', 'int', 1], '19', 22, 44]\n"
          ]
        }
      ]
    },
    {
      "cell_type": "markdown",
      "source": [
        "TASK 11\n",
        "\n"
      ],
      "metadata": {
        "id": "lAgCukKv7nCv"
      }
    },
    {
      "cell_type": "code",
      "source": [
        "dict_1 = {\"name\" : \"Andrew\",\"age\":\"25\"}\n",
        "type(dict_1)"
      ],
      "metadata": {
        "colab": {
          "base_uri": "https://localhost:8080/"
        },
        "id": "DJd7Q4Wx7qDQ",
        "outputId": "d9976bfd-6afa-47fe-e7ec-0c09e30661a3"
      },
      "execution_count": 23,
      "outputs": [
        {
          "output_type": "execute_result",
          "data": {
            "text/plain": [
              "dict"
            ]
          },
          "metadata": {},
          "execution_count": 23
        }
      ]
    },
    {
      "cell_type": "markdown",
      "source": [
        "TASK 12\n",
        "\n"
      ],
      "metadata": {
        "id": "dDLMcd6F81DL"
      }
    },
    {
      "cell_type": "code",
      "source": [
        "dict_1[\"city\"] = \"Seattle\"\n",
        "print(dict_1)"
      ],
      "metadata": {
        "colab": {
          "base_uri": "https://localhost:8080/"
        },
        "id": "YdWoRHhw825F",
        "outputId": "ec0ffda4-522a-4f7c-87a3-0014e8c36f44"
      },
      "execution_count": 24,
      "outputs": [
        {
          "output_type": "stream",
          "name": "stdout",
          "text": [
            "{'name': 'Andrew', 'age': '25', 'city': 'Seattle'}\n"
          ]
        }
      ]
    },
    {
      "cell_type": "markdown",
      "source": [
        "TASK 13\n"
      ],
      "metadata": {
        "id": "5EKz0-BS9GwA"
      }
    },
    {
      "cell_type": "code",
      "source": [
        "dict_1[\"city\"] = \"New York\"\n",
        "print(dict_1)"
      ],
      "metadata": {
        "colab": {
          "base_uri": "https://localhost:8080/"
        },
        "id": "IHpSTclS9GR8",
        "outputId": "af3c0800-5313-45c5-bb98-4f3e6027f6c1"
      },
      "execution_count": 26,
      "outputs": [
        {
          "output_type": "stream",
          "name": "stdout",
          "text": [
            "{'name': 'Andrew', 'age': '25', 'city': 'New York'}\n"
          ]
        }
      ]
    },
    {
      "cell_type": "markdown",
      "source": [
        "TASK 14\n"
      ],
      "metadata": {
        "id": "0MNM7t759gKP"
      }
    },
    {
      "cell_type": "code",
      "source": [
        "ans14 = -25.82;\n",
        "print(abs(ans14))"
      ],
      "metadata": {
        "colab": {
          "base_uri": "https://localhost:8080/"
        },
        "id": "E6Mjsvle9h0i",
        "outputId": "9971adb9-1f24-4cde-8b40-33209d9e05cd"
      },
      "execution_count": 27,
      "outputs": [
        {
          "output_type": "stream",
          "name": "stdout",
          "text": [
            "25.82\n"
          ]
        }
      ]
    },
    {
      "cell_type": "markdown",
      "source": [
        "TASK 15\n"
      ],
      "metadata": {
        "id": "o4T91yl4-GZF"
      }
    },
    {
      "cell_type": "code",
      "source": [
        " ans15 = \"I live in the US\";\n",
        " print(ans15.lower());"
      ],
      "metadata": {
        "colab": {
          "base_uri": "https://localhost:8080/"
        },
        "id": "03-Gk0OB-HdE",
        "outputId": "8024b246-968b-4bd5-d1aa-1103b37786e7"
      },
      "execution_count": 31,
      "outputs": [
        {
          "output_type": "stream",
          "name": "stdout",
          "text": [
            "i live in the us\n"
          ]
        }
      ]
    },
    {
      "cell_type": "markdown",
      "source": [
        "TASK 16\n"
      ],
      "metadata": {
        "id": "AbtKoSzr-oKN"
      }
    },
    {
      "cell_type": "code",
      "source": [
        " num_1 = -738.9;\n",
        " num_2 = 11;\n",
        " values = [];\n",
        " if num_1 < 0:\n",
        "   values.append(\"True\")\n",
        " else:\n",
        "  values.append(\"False\")\n",
        "\n",
        " if num_2 > 0:\n",
        "    values.append(\"False\")\n",
        " else:\n",
        "    values.append(\"True\")\n",
        "\n",
        "\n",
        "print(\"values:\", values)\n",
        "\n",
        "\n"
      ],
      "metadata": {
        "colab": {
          "base_uri": "https://localhost:8080/"
        },
        "id": "R_kA9YFr-qNb",
        "outputId": "63bf8cc2-3217-4191-9085-b68e29020e93"
      },
      "execution_count": 6,
      "outputs": [
        {
          "output_type": "stream",
          "name": "stdout",
          "text": [
            "values: ['True', 'False']\n"
          ]
        }
      ]
    },
    {
      "cell_type": "markdown",
      "source": [
        "Task 17\n"
      ],
      "metadata": {
        "id": "4vt9d2Zg48TS"
      }
    },
    {
      "cell_type": "code",
      "source": [
        "list_mod = list(range(1,15))\n",
        "list_result =[]\n",
        "for index in list_mod:\n",
        " if index % 2 == 0:\n",
        "     list_result.append(\"True\")\n",
        " else:\n",
        "     list_result.append( \"False\")\n",
        "print(\"Result:\", list_result)"
      ],
      "metadata": {
        "colab": {
          "base_uri": "https://localhost:8080/"
        },
        "id": "HlizslUk4-oy",
        "outputId": "87d41dee-12de-4018-85db-b6da9fad2ad5"
      },
      "execution_count": 11,
      "outputs": [
        {
          "output_type": "stream",
          "name": "stdout",
          "text": [
            "Result: ['False', 'True', 'False', 'True', 'False', 'True', 'False', 'True', 'False', 'True', 'False', 'True', 'False', 'True']\n"
          ]
        }
      ]
    },
    {
      "cell_type": "markdown",
      "source": [
        "Task 18\n"
      ],
      "metadata": {
        "id": "Zo6u1Vxn66aL"
      }
    },
    {
      "cell_type": "markdown",
      "source": [],
      "metadata": {
        "id": "5Vx0SiIq8ruo"
      }
    },
    {
      "cell_type": "code",
      "source": [
        "list_time = list(range(7,24))\n",
        "result_time =[]\n",
        "for index in list_time:\n",
        "   if index <= 12:\n",
        "     result_time.append(\"Good morning\")\n",
        "   elif index < 20:\n",
        "    result_time.append(\"Good afternoon\")\n",
        "else:\n",
        "  result_time.append(\"Good night\")\n",
        "# Print the final result\n",
        "print(\"Result time greetings:\")\n",
        "for idx, greeting in enumerate(result_time, start=7):\n",
        "    print(f\"{greeting} ({idx}:00)\")"
      ],
      "metadata": {
        "colab": {
          "base_uri": "https://localhost:8080/"
        },
        "id": "v6id_pBj9ywt",
        "outputId": "82612cfa-179e-4541-eaf5-7e1c5eb7e949"
      },
      "execution_count": 16,
      "outputs": [
        {
          "output_type": "stream",
          "name": "stdout",
          "text": [
            "Result time greetings:\n",
            "Good morning (7:00)\n",
            "Good morning (8:00)\n",
            "Good morning (9:00)\n",
            "Good morning (10:00)\n",
            "Good morning (11:00)\n",
            "Good morning (12:00)\n",
            "Good afternoon (13:00)\n",
            "Good afternoon (14:00)\n",
            "Good afternoon (15:00)\n",
            "Good afternoon (16:00)\n",
            "Good afternoon (17:00)\n",
            "Good afternoon (18:00)\n",
            "Good afternoon (19:00)\n",
            "Good night (20:00)\n"
          ]
        }
      ]
    },
    {
      "cell_type": "markdown",
      "source": [
        "TASK 19\n"
      ],
      "metadata": {
        "id": "YAgpg0wA-Fbn"
      }
    },
    {
      "cell_type": "code",
      "source": [
        "def validate(x):\n",
        " if x % 2 == 0:\n",
        "  return \"even\"\n",
        " else:\n",
        "  return \"odd\"\n",
        "print(validate(1))\n",
        "print(validate(2))\n",
        "print(validate(3))\n",
        "print(validate(4))\n",
        "print(validate(5))\n",
        "print(validate(6))\n",
        "\n",
        "\n"
      ],
      "metadata": {
        "colab": {
          "base_uri": "https://localhost:8080/"
        },
        "id": "kYM7YAZG-Gd3",
        "outputId": "97300ee3-2888-470d-b637-daa03469a8be"
      },
      "execution_count": 18,
      "outputs": [
        {
          "output_type": "stream",
          "name": "stdout",
          "text": [
            "odd\n",
            "even\n",
            "odd\n",
            "even\n",
            "odd\n",
            "even\n"
          ]
        }
      ]
    },
    {
      "cell_type": "markdown",
      "source": [
        "TASK 20\n"
      ],
      "metadata": {
        "id": "_KiBeE23-9yM"
      }
    },
    {
      "cell_type": "code",
      "source": [
        "def abs_value(x):\n",
        " return abs(x)\n",
        "\n",
        "\n",
        "\n",
        "print(abs_value(-10))"
      ],
      "metadata": {
        "colab": {
          "base_uri": "https://localhost:8080/"
        },
        "id": "pugyTZ4a_Eyg",
        "outputId": "b287d21e-15a2-496c-8b20-8a26a7c814a8"
      },
      "execution_count": 23,
      "outputs": [
        {
          "output_type": "stream",
          "name": "stdout",
          "text": [
            "10\n"
          ]
        }
      ]
    }
  ]
}